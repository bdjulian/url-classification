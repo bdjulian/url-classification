{
 "cells": [
  {
   "cell_type": "code",
   "execution_count": 1,
   "id": "western-philip",
   "metadata": {},
   "outputs": [],
   "source": [
    "import pandas as pd\n",
    "import numpy as np\n",
    "import sklearn\n",
    "import json\n",
    "import time"
   ]
  },
  {
   "cell_type": "code",
   "execution_count": 2,
   "id": "determined-equivalent",
   "metadata": {},
   "outputs": [],
   "source": [
    "# print(\"Printed immediately.\")\n",
    "# time.sleep(2.4)\n",
    "# print(\"Printed after 2.4 seconds.\")"
   ]
  },
  {
   "cell_type": "code",
   "execution_count": 3,
   "id": "sorted-findings",
   "metadata": {},
   "outputs": [],
   "source": [
    "# with open('data.txt', 'w') as outfile:\n",
    "#     json.dump(x, outfile)"
   ]
  },
  {
   "cell_type": "code",
   "execution_count": 4,
   "id": "sixth-sponsorship",
   "metadata": {},
   "outputs": [],
   "source": [
    "# with open('data.txt') as json_file:\n",
    "#     data = json.load(json_file)"
   ]
  },
  {
   "cell_type": "code",
   "execution_count": null,
   "id": "indoor-flower",
   "metadata": {},
   "outputs": [],
   "source": [
    "# for i in range(len(dates_from)):\n",
    "#     data = search(dates_from[i], dates_to[i], 5)\n",
    "#     with open(f'data/data{i}.txt', 'w') as outfile:\n",
    "#         json.dump(data, outfile)\n",
    "#     time.sleep(5)"
   ]
  },
  {
   "cell_type": "code",
   "execution_count": null,
   "id": "structural-andorra",
   "metadata": {},
   "outputs": [],
   "source": [
    "# def job_id_extract(data):\n",
    "#     list = []\n",
    "#     for i in data['result']:\n",
    "#         list.append(i['job_id'])\n",
    "        \n",
    "#     return(list)"
   ]
  },
  {
   "cell_type": "markdown",
   "id": "defined-language",
   "metadata": {},
   "source": [
    "# Introduction, Business Understanding\n",
    "\n",
    "Questions:\n",
    "- How does Hybrid Analysis construct its threat score for URL's?\n",
    "    - Can a generalized model be made based on the reports their Falcon Sandbox platform produces?\n",
    "- What features are important to Hybrid Analysis URL threat score?\n",
    "    - Can these features be determined, and then in turn, easily be extracted with guidance from their reports.\n",
    "    - If reverse engineering isn't possible, can generealized insights still be produced?\n",
    "    \n",
    "Objectives:\n",
    "- Creae a model that interprets Hybrid Analysis reports to determine threat score on URL's\n",
    "- Create a feature list of Hybrid Analysis most informative features\n",
    "- If the above are successful, deploy a reverse engineered model\n",
    "\n",
    "Success Criteria:\n",
    "- Either a functional model or insights into Hybrid Analysis feature importance for URL's that could guide another project"
   ]
  },
  {
   "cell_type": "code",
   "execution_count": 5,
   "id": "professional-medication",
   "metadata": {},
   "outputs": [],
   "source": [
    "from search_query import search\n",
    "from report_get import report\n",
    "from job_id_extract import job_id_extract\n",
    "from write_to_file import search_and_write"
   ]
  },
  {
   "cell_type": "code",
   "execution_count": 26,
   "id": "classical-wagon",
   "metadata": {},
   "outputs": [],
   "source": [
    "dates_from = ['2020-09-28 00:00', '2020-09-29 00:00', '2020-9-30 00:00', '2020-10-01 00:00', '2020-10-02 00:00', '2020-10-03 00:00', '2020-10-04 00:00', '2020-10-05 00:00', '2020-10-06 00:00', '2020-10-07 00:00', '2020-10-08 00:00', '2020-10-09 00:00', '2020-10-10 00:00', '2020-10-11 00:00', '2020-10-12 00:00', '2020-10-13 00:00', '2020-10-14 00:00', '2020-10-15 00:00', '2020-10-16 00:00', '2020-10-17 00:00', '2020-10-18 00:00', '2020-10-19 00:00', '2020-10-20 00:00']\n",
    "dates_to = ['2020-09-29 00:00', '2020-09-30 00:00', '2020-10-01 00:00', '2020-10-02 00:00', '2020-10-03 00:00', '2020-10-04 00:00', '2020-10-05 00:00', '2020-10-06 00:00', '2020-10-07 00:00', '2020-10-08 00:00', '2020-10-09 00:00', '2020-10-10 00:00', '2020-10-11 00:00', '2020-10-12 00:00', '2020-10-13 00:00', '2020-10-14 00:00', '2020-10-15 00:00', '2020-10-16 00:00', '2020-10-17 00:00', '2020-10-18 00:00', '2020-10-19 00:00', '2020-10-20 00:00', '2020-10-21 00:00']"
   ]
  },
  {
   "cell_type": "code",
   "execution_count": 27,
   "id": "fleet-progress",
   "metadata": {},
   "outputs": [],
   "source": [
    "# search_and_write(dates_from, dates_to)"
   ]
  },
  {
   "cell_type": "code",
   "execution_count": 9,
   "id": "therapeutic-queensland",
   "metadata": {},
   "outputs": [],
   "source": [
    "# with open('data/data0.txt') as json_file:\n",
    "#     data = json.load(json_file)\n",
    "# data"
   ]
  },
  {
   "cell_type": "code",
   "execution_count": 28,
   "id": "false-stroke",
   "metadata": {},
   "outputs": [],
   "source": [
    "my_dict = {}\n",
    "for i in range(len(dates_from)):\n",
    "    with open(f'data/data{i}.txt') as json_file:\n",
    "        my_dict[i] = json.load(json_file)"
   ]
  },
  {
   "cell_type": "code",
   "execution_count": 29,
   "id": "worth-guard",
   "metadata": {},
   "outputs": [
    {
     "data": {
      "text/plain": [
       "23"
      ]
     },
     "execution_count": 29,
     "metadata": {},
     "output_type": "execute_result"
    }
   ],
   "source": [
    "len(my_dict)"
   ]
  },
  {
   "cell_type": "code",
   "execution_count": 33,
   "id": "worth-check",
   "metadata": {},
   "outputs": [
    {
     "data": {
      "text/plain": [
       "159"
      ]
     },
     "execution_count": 33,
     "metadata": {},
     "output_type": "execute_result"
    }
   ],
   "source": [
    "total = 0\n",
    "for i in my_dict:\n",
    "    num = int(my_dict[i]['count'])\n",
    "    total += num\n",
    "total"
   ]
  },
  {
   "cell_type": "code",
   "execution_count": 45,
   "id": "unlimited-journalism",
   "metadata": {},
   "outputs": [
    {
     "data": {
      "text/plain": [
       "'5f72774a50643e7bc7460603'"
      ]
     },
     "execution_count": 45,
     "metadata": {},
     "output_type": "execute_result"
    }
   ],
   "source": [
    "my_dict[0]['result'][0]['job_id']"
   ]
  },
  {
   "cell_type": "code",
   "execution_count": null,
   "id": "damaged-nelson",
   "metadata": {},
   "outputs": [],
   "source": []
  },
  {
   "cell_type": "code",
   "execution_count": null,
   "id": "lined-hands",
   "metadata": {},
   "outputs": [],
   "source": [
    "rep = report(\"5f9a05839fb71b523c1a2b59\")"
   ]
  },
  {
   "cell_type": "code",
   "execution_count": null,
   "id": "round-polyester",
   "metadata": {
    "scrolled": true
   },
   "outputs": [],
   "source": [
    "rep"
   ]
  }
 ],
 "metadata": {
  "kernelspec": {
   "display_name": "Python 3",
   "language": "python",
   "name": "python3"
  },
  "language_info": {
   "codemirror_mode": {
    "name": "ipython",
    "version": 3
   },
   "file_extension": ".py",
   "mimetype": "text/x-python",
   "name": "python",
   "nbconvert_exporter": "python",
   "pygments_lexer": "ipython3",
   "version": "3.7.1"
  }
 },
 "nbformat": 4,
 "nbformat_minor": 5
}
